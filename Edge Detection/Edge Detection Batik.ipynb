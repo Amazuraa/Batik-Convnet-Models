{
 "cells": [
  {
   "cell_type": "code",
   "execution_count": null,
   "id": "89d7bddb",
   "metadata": {},
   "outputs": [],
   "source": [
    "import numpy as np\n",
    "import cv2 as cv\n",
    "from matplotlib import pyplot as plt\n",
    "from matplotlib import image as mpimg\n",
    "from IPython.display import Image"
   ]
  },
  {
   "cell_type": "code",
   "execution_count": null,
   "id": "6c38857a",
   "metadata": {
    "scrolled": false
   },
   "outputs": [],
   "source": [
    "img = cv.imread('Pictures\\Saved Pictures\\megamendung.jpg',0)\n",
    "img_rgb = mpimg.imread('Pictures\\Saved Pictures\\megamendung.jpg')\n",
    "\n",
    "# Canny edge detection --------------------------------------\n",
    "edges = cv.Canny(img,100,200)\n",
    "\n",
    "\n",
    "\n",
    "\n",
    "plt.subplot(121)\n",
    "plt.imshow(img_rgb)\n",
    "plt.title('Gambar Original'), plt.xticks([]), plt.yticks([])\n",
    "\n",
    "plt.subplot(122)\n",
    "plt.imshow(edges,cmap = 'gray')\n",
    "plt.title('Canny Edge Detection'), plt.xticks([]), plt.yticks([])"
   ]
  },
  {
   "cell_type": "code",
   "execution_count": null,
   "id": "d4f130bb",
   "metadata": {
    "scrolled": false
   },
   "outputs": [],
   "source": [
    "img_new = cv.imread('Pictures\\Saved Pictures\\megamendung.jpg', 1) # mind the channel input image\n",
    "img_rgb = mpimg.imread('Pictures\\Saved Pictures\\megamendung.jpg')\n",
    "\n",
    "# Sobel edge detection --------------------------------------\n",
    "src = cv.GaussianBlur(img_new, (3, 3), 0)\n",
    "grays = cv.cvtColor(src, cv.COLOR_BGR2GRAY)\n",
    "\n",
    "sobelx = cv.Sobel(grays, cv.CV_64F, dx=1, dy=0, ksize=3) # on X axis\n",
    "sobely = cv.Sobel(grays, cv.CV_64F, dx=0, dy=1, ksize=3) # on Y axis\n",
    "\n",
    "abs_grad_x = cv.convertScaleAbs(sobelx)\n",
    "abs_grad_y = cv.convertScaleAbs(sobely)\n",
    "\n",
    "grad = cv.addWeighted(abs_grad_x, 0.5, abs_grad_y, 0.5, 0)\n",
    "\n",
    "\n",
    "\n",
    "\n",
    "\n",
    "plt.subplot(121)\n",
    "plt.imshow(sobelx, cmap='gray')\n",
    "plt.title('Gradien X'), plt.xticks([]), plt.yticks([])\n",
    "\n",
    "plt.subplot(122)\n",
    "plt.imshow(sobely, cmap='gray')\n",
    "plt.title('Gradien Y'), plt.xticks([]), plt.yticks([])\n",
    "\n",
    "# plt.subplot(133)\n",
    "# plt.imshow(grad ,cmap = 'gray')\n",
    "# plt.title('X-Y Image'), plt.xticks([]), plt.yticks([])"
   ]
  }
 ],
 "metadata": {
  "kernelspec": {
   "display_name": "Python 3 (ipykernel)",
   "language": "python",
   "name": "python3"
  },
  "language_info": {
   "codemirror_mode": {
    "name": "ipython",
    "version": 3
   },
   "file_extension": ".py",
   "mimetype": "text/x-python",
   "name": "python",
   "nbconvert_exporter": "python",
   "pygments_lexer": "ipython3",
   "version": "3.8.12"
  }
 },
 "nbformat": 4,
 "nbformat_minor": 5
}
